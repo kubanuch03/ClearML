{
 "cells": [
  {
   "cell_type": "code",
   "execution_count": 4,
   "id": "48e7a3eb",
   "metadata": {},
   "outputs": [
    {
     "name": "stdout",
     "output_type": "stream",
     "text": [
      "Получаем последнюю версию датасета...\n",
      "2025-07-23 12:59:24,956 - clearml - INFO - Dataset.get() did not specify alias. Dataset information will not be automatically logged in ClearML Server.\n",
      "Данные находятся в: /home/zazaka/.clearml/cache/storage_manager/datasets/ds_bf0142140fc746f5b72781cc327af8b9\n",
      "dataset X: [[0 0 0 ... 0 0 0]\n",
      " [0 0 0 ... 0 0 0]\n",
      " [0 0 0 ... 0 0 0]\n",
      " ...\n",
      " [0 0 0 ... 0 0 0]\n",
      " [0 0 0 ... 0 0 0]\n",
      " [0 0 0 ... 0 0 0]]\n",
      "Разделяем данные и обучаем модель...\n"
     ]
    },
    {
     "name": "stderr",
     "output_type": "stream",
     "text": [
      "/home/zazaka/anaconda3/lib/python3.11/site-packages/sklearn/linear_model/_logistic.py:458: ConvergenceWarning: lbfgs failed to converge (status=1):\n",
      "STOP: TOTAL NO. of ITERATIONS REACHED LIMIT.\n",
      "\n",
      "Increase the number of iterations (max_iter) or scale the data as shown in:\n",
      "    https://scikit-learn.org/stable/modules/preprocessing.html\n",
      "Please also refer to the documentation for alternative solver options:\n",
      "    https://scikit-learn.org/stable/modules/linear_model.html#logistic-regression\n",
      "  n_iter_i = _check_optimize_result(\n"
     ]
    },
    {
     "name": "stdout",
     "output_type": "stream",
     "text": [
      "Accuracy = 0.9161428571428571\n",
      "Задача выполнена! Модель сохранена и загружена в ClearML.\n"
     ]
    }
   ],
   "source": [
    "# 2_train_model.py\n",
    "from clearml import Task, Dataset\n",
    "import numpy as np\n",
    "from sklearn.model_selection import train_test_split\n",
    "from sklearn.linear_model import LogisticRegression\n",
    "from sklearn.metrics import accuracy_score\n",
    "import joblib # для сохранения модели\n",
    "\n",
    "# --- Шаг 1: Инициализируем задачу в ClearML ---\n",
    "task = Task.init(\n",
    "    project_name='examples-mnist',\n",
    "    task_name='train_logistic_regression',\n",
    "    output_uri=True # Очень важно! Говорит ClearML сохранять артефакты (модели)\n",
    ")\n",
    "\n",
    "# --- Шаг 2: Получаем данные из ClearML Data ---\n",
    "print('Получаем последнюю версию датасета...')\n",
    "# Это скачает данные, если их нет локально\n",
    "dataset = Dataset.get(dataset_project='examples-mnist', dataset_name='mnist_dataset')\n",
    "local_dataset_path = dataset.get_local_copy()\n",
    "\n",
    "print(f'Данные находятся в: {local_dataset_path}')\n",
    "X = np.load(f'{local_dataset_path}/mnist_features.npy', allow_pickle=True)\n",
    "y = np.load(f'{local_dataset_path}/mnist_labels.npy', allow_pickle=True)\n",
    "print(f'dataset X: {X}')\n",
    "print(f'dataset Y: {y}')\n",
    "# --- Шаг 3: Определяем параметры ---\n",
    "# ClearML автоматически их подхватит\n",
    "params = {\n",
    "    'test_size': 0.2,\n",
    "    'random_state': 42,\n",
    "    'C': 0.1\n",
    "}\n",
    "# Явно подключаем параметры к задаче для лучшей организации\n",
    "task.connect(params)\n",
    "\n",
    "# --- Шаг 4: Обучение модели ---\n",
    "print('Разделяем данные и обучаем модель...')\n",
    "X_train, X_test, y_train, y_test = train_test_split(\n",
    "    X, y, test_size=params['test_size'], random_state=params['random_state']\n",
    ")\n",
    "\n",
    "model = LogisticRegression(C=params['C'], max_iter=1000) # Простая модель\n",
    "model.fit(X_train, y_train)\n",
    "\n",
    "# --- Шаг 5: Оценка и логирование метрик ---\n",
    "y_pred = model.predict(X_test)\n",
    "acc = accuracy_score(y_test, y_pred)\n",
    "print(f'Accuracy = {acc}')\n",
    "\n",
    "# Логируем метрику в ClearML, чтобы видеть красивые графики\n",
    "task.get_logger().report_scalar(\n",
    "    title='performance', series='accuracy', value=acc, iteration=1\n",
    ")\n",
    "\n",
    "# --- Шаг 6: Сохраняем модель ---\n",
    "# ClearML автоматически найдет этот файл и загрузит его\n",
    "joblib.dump(model, 'model.pkl')\n",
    "\n",
    "print('Задача выполнена! Модель сохранена и загружена в ClearML.')"
   ]
  }
 ],
 "metadata": {
  "kernelspec": {
   "display_name": "base",
   "language": "python",
   "name": "python3"
  },
  "language_info": {
   "codemirror_mode": {
    "name": "ipython",
    "version": 3
   },
   "file_extension": ".py",
   "mimetype": "text/x-python",
   "name": "python",
   "nbconvert_exporter": "python",
   "pygments_lexer": "ipython3",
   "version": "3.11.7"
  }
 },
 "nbformat": 4,
 "nbformat_minor": 5
}
